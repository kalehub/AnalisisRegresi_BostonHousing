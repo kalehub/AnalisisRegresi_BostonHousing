{
 "cells": [
  {
   "cell_type": "markdown",
   "source": [
    "# Analisis Regresi : Boston Housing"
   ],
   "metadata": {}
  },
  {
   "cell_type": "markdown",
   "source": [
    "_Exercise project_ implementasi Regresion Analysis menggunakan scikit-learn. Data diunduh dari situs [Kaggle](https://www.kaggle.com/vikrishnan/boston-house-prices).\n",
    "\n",
    "oleh: Teguh Satya **Enter**\n",
    "mari berteman di [Github](https://www.github.com/kalehub)!"
   ],
   "metadata": {}
  }
 ],
 "metadata": {
  "orig_nbformat": 4,
  "language_info": {
   "name": "python",
   "version": "3.9.0"
  },
  "kernelspec": {
   "name": "python3",
   "display_name": "Python 3.9.0 64-bit ('venv': venv)"
  },
  "interpreter": {
   "hash": "1fcaf95345cb3de889b11c78173a5d6688b0de2ef3c43b1931e1cb0853e1dc06"
  }
 },
 "nbformat": 4,
 "nbformat_minor": 2
}